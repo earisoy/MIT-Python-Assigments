{
 "cells": [
  {
   "cell_type": "markdown",
   "metadata": {
    "colab_type": "text",
    "id": "qxWPrVcF7iqx"
   },
   "source": [
    "## **Part A: House Hunting**\n"
   ]
  },
  {
   "cell_type": "code",
   "execution_count": 0,
   "metadata": {
    "colab": {
     "base_uri": "https://localhost:8080/",
     "height": 85
    },
    "colab_type": "code",
    "id": "8WUMuW4gt3_k",
    "outputId": "c8aedffb-13b2-49e7-f343-7ccf2f8e74a2"
   },
   "outputs": [
    {
     "name": "stdout",
     "output_type": "stream",
     "text": [
      "Enter your annual salary: 120000\n",
      "Enter the percent of your salary to save, as a decimal: 0.10\n",
      "Enter the cost of your dream home: 1000000\n",
      "Number of months: 182\n"
     ]
    }
   ],
   "source": [
    "portion_down_payment=0.25\n",
    "current_saving=0\n",
    "r = 0.04 # Annual rate\n",
    "r_monthly = r/12\n",
    "number_of_month = 0\n",
    "\n",
    "#Inputs\n",
    "annual_salary = float(input(\"Enter your annual salary: \")); \n",
    "portion_saved  = float(input(\"Enter the percent of your salary to save, as a decimal: \")) ;\n",
    "total_cost = float(input(\"Enter the cost of your dream home: \")) ;\n",
    "\n",
    "down_payment_price = (total_cost * portion_down_payment);\n",
    "monthly_salary = annual_salary/12;\n",
    "\n",
    "#Calculate number of month\n",
    "while current_saving < down_payment_price:\n",
    "   current_saving=current_saving+(monthly_salary * portion_saved);\n",
    "   current_saving = current_saving + (current_saving * r_monthly );\n",
    "   number_of_month +=1;\n",
    "\n",
    "print (\"Number of months: \" + str(number_of_month));"
   ]
  },
  {
   "cell_type": "markdown",
   "metadata": {
    "colab_type": "text",
    "id": "CDw22-ir74xr"
   },
   "source": [
    "# **Part B: Saving, with a raise**"
   ]
  },
  {
   "cell_type": "code",
   "execution_count": 0,
   "metadata": {
    "colab": {
     "base_uri": "https://localhost:8080/",
     "height": 102
    },
    "colab_type": "code",
    "id": "aRn6WNBa793x",
    "outputId": "0527b0fe-02b5-4ac5-a1c9-ec5ed531b213"
   },
   "outputs": [
    {
     "name": "stdout",
     "output_type": "stream",
     "text": [
      "Enter your annual salary: 80000\n",
      "Enter the percent of your salary to save, as a decimal: 0.1\n",
      "Enter the cost of your dream home: 800000\n",
      "Enter the semi-annual raise, as a decimal: 0.03\n",
      "Number of months: 159\n"
     ]
    }
   ],
   "source": [
    "portion_down_payment=0.25\n",
    "current_saving=0\n",
    "r = 0.04 # Annual rate\n",
    "r_monthly = r/12\n",
    "number_of_month = 0\n",
    "\n",
    "#Inputs\n",
    "annual_salary = float(input(\"Enter your annual salary: \")); \n",
    "portion_saved  = float(input(\"Enter the percent of your salary to save, as a decimal: \")) ;\n",
    "total_cost = float(input(\"Enter the cost of your dream home: \")) ;\n",
    "semi_annual_raise = float(input(\"Enter the semi-annual raise, as a decimal: \"));\n",
    "\n",
    "down_payment_price = (total_cost * portion_down_payment);\n",
    "monthly_salary = annual_salary/12;\n",
    "\n",
    "#Calculate number of month\n",
    "while current_saving < down_payment_price:\n",
    "   current_saving=current_saving + (monthly_salary * portion_saved);\n",
    "   current_saving = current_saving + (current_saving * r_monthly );\n",
    "   number_of_month +=1;\n",
    "   if (number_of_month) % 6 ==0:\n",
    "     monthly_salary = monthly_salary + (monthly_salary * semi_annual_raise)\n",
    "\n",
    "print (\"Number of months: \" + str(number_of_month+1));"
   ]
  },
  {
   "cell_type": "markdown",
   "metadata": {
    "colab_type": "text",
    "id": "uM6UqmzkH2Jt"
   },
   "source": [
    "# **Part C: Finding the right amount to save away**"
   ]
  },
  {
   "cell_type": "code",
   "execution_count": 0,
   "metadata": {
    "colab": {
     "base_uri": "https://localhost:8080/",
     "height": 68
    },
    "colab_type": "code",
    "id": "34S6c99rH5UK",
    "outputId": "191214f4-26b3-46d2-8a4c-3a1a4fcee30c"
   },
   "outputs": [
    {
     "name": "stdout",
     "output_type": "stream",
     "text": [
      "Enter the starting salary: 150000\n",
      "Best savings rate: 0.4017\n",
      "Steps in bisection search: 12\n"
     ]
    }
   ],
   "source": [
    "#State variables\n",
    "\n",
    "total_cost = 1000000\n",
    "semi_annual_raise = 0.07\n",
    "portion_down_payment=0.25\n",
    "current_saving=0\n",
    "r = 0.04 # Annual rate\n",
    "r_monthly = r/12\n",
    "number_of_month = 36\n",
    "down_payment_price = (total_cost * portion_down_payment);\n",
    "portion_saved_prev=5000\n",
    "portion_saved=5000\n",
    "difference=2500\n",
    "step=0\n",
    "\n",
    "\n",
    "#Input salary\n",
    "annual_salary = float(input(\"Enter the starting salary: \")); \n",
    "monthly_salary = annual_salary/12;\n",
    "constant= monthly_salary\n",
    "\n",
    "#Calculation of the best saving rates\n",
    "\n",
    "while (current_saving < (down_payment_price-100)) or (current_saving > (down_payment_price+100)) :\n",
    "    portion_saved_prev = portion_saved;\n",
    "    current_saving=0;\n",
    "    number_of_month=0;\n",
    "    monthly_salary=constant\n",
    "    while number_of_month <= 36:\n",
    "      current_saving = current_saving + (monthly_salary * (portion_saved/10000));\n",
    "      current_saving = current_saving + (current_saving * r_monthly );\n",
    "      if (number_of_month) % 6 ==0 :\n",
    "        monthly_salary = monthly_salary + (monthly_salary * semi_annual_raise);\n",
    "      number_of_month +=1;\n",
    "    if  current_saving > (down_payment_price+100) :\n",
    "      portion_saved = portion_saved - difference ;\n",
    "    else :\n",
    "      portion_saved = portion_saved + difference ;\n",
    "    difference =  abs((portion_saved_prev - portion_saved)/2);\n",
    "    step +=1\n",
    "    if step>50:\n",
    "      break;\n",
    "\n",
    "\n",
    "if step>50:\n",
    "  print (\"It is not possible to pay the down payment in three years.\");\n",
    "else:\n",
    "  print (\"Best savings rate: %.4f\"  % (portion_saved/10000));\n",
    "  print (\"Steps in bisection search: \" + str(step));\n",
    "\n",
    "\n"
   ]
  },
  {
   "cell_type": "code",
   "execution_count": 0,
   "metadata": {
    "colab": {
     "base_uri": "https://localhost:8080/",
     "height": 67
    },
    "colab_type": "code",
    "id": "2S1i61xfHaBz",
    "outputId": "33c8c8f2-28d7-4d4c-964d-c1c9e4a32106"
   },
   "outputs": [
    {
     "name": "stdout",
     "output_type": "stream",
     "text": [
      "Enter the starting salary: 300000\n",
      "Best savings rate: 0.2009\n",
      "Steps in bisection search: 13\n"
     ]
    }
   ],
   "source": [
    "#State variables\n",
    "\n",
    "total_cost = 1000000\n",
    "semi_annual_raise = 0.07\n",
    "portion_down_payment=0.25\n",
    "current_saving=0\n",
    "r = 0.04 # Annual rate\n",
    "r_monthly = r/12\n",
    "number_of_month = 36\n",
    "down_payment_price = (total_cost * portion_down_payment);\n",
    "portion_saved_prev=5000\n",
    "portion_saved=5000\n",
    "difference=2500\n",
    "step=0\n",
    "\n",
    "\n",
    "#Input salary\n",
    "annual_salary = float(input(\"Enter the starting salary: \")); \n",
    "monthly_salary = annual_salary/12;\n",
    "constant= monthly_salary\n",
    "\n",
    "#Calculation of the best saving rates\n",
    "\n",
    "while (current_saving < (down_payment_price-100)) or (current_saving > (down_payment_price+100)) :\n",
    "    portion_saved_prev = portion_saved;\n",
    "    current_saving=0;\n",
    "    number_of_month=0;\n",
    "    monthly_salary=constant\n",
    "    while number_of_month <= 36:\n",
    "      current_saving = current_saving + (monthly_salary * (portion_saved/10000));\n",
    "      current_saving = current_saving + (current_saving * r_monthly );\n",
    "      if (number_of_month) % 6 ==0 :\n",
    "        monthly_salary = monthly_salary + (monthly_salary * semi_annual_raise);\n",
    "      number_of_month +=1;\n",
    "    if  current_saving > (down_payment_price+100) :\n",
    "      portion_saved = portion_saved - difference ;\n",
    "    else :\n",
    "      portion_saved = portion_saved + difference ;\n",
    "    difference =  abs((portion_saved_prev - portion_saved)/2);\n",
    "    step +=1\n",
    "    if step>50:\n",
    "      break;\n",
    "\n",
    "\n",
    "if step>50:\n",
    "  print (\"It is not possible to pay the down payment in three years.\");\n",
    "else:\n",
    "  print (\"Best savings rate: %.4f\"  % (portion_saved/10000));\n",
    "  print (\"Steps in bisection search: \" + str(step));\n",
    "\n",
    "\n"
   ]
  },
  {
   "cell_type": "markdown",
   "metadata": {
    "colab_type": "text",
    "id": "XtNdCFtFQH1-"
   },
   "source": [
    "**Not Possible case test output:**"
   ]
  },
  {
   "cell_type": "code",
   "execution_count": 0,
   "metadata": {
    "colab": {
     "base_uri": "https://localhost:8080/",
     "height": 51
    },
    "colab_type": "code",
    "id": "LVt5esI4P647",
    "outputId": "5cd6d59c-6d66-422d-85e9-ada55ddd0a90"
   },
   "outputs": [
    {
     "name": "stdout",
     "output_type": "stream",
     "text": [
      "Enter the starting salary: 10000\n",
      "It is not possible to pay the down payment in three years.\n"
     ]
    }
   ],
   "source": [
    "#State variables\n",
    "\n",
    "total_cost = 1000000\n",
    "semi_annual_raise = 0.07\n",
    "portion_down_payment=0.25\n",
    "current_saving=0\n",
    "r = 0.04 # Annual rate\n",
    "r_monthly = r/12\n",
    "number_of_month = 36\n",
    "down_payment_price = (total_cost * portion_down_payment);\n",
    "portion_saved_prev=5000\n",
    "portion_saved=5000\n",
    "difference=2500\n",
    "step=0\n",
    "\n",
    "\n",
    "#Input salary\n",
    "annual_salary = float(input(\"Enter the starting salary: \")); \n",
    "monthly_salary = annual_salary/12;\n",
    "constant= monthly_salary\n",
    "#Calculation of the best saving rates\n",
    "\n",
    "while (current_saving < (down_payment_price-100)) or (current_saving > (down_payment_price+100)) :\n",
    "    portion_saved_prev = portion_saved;\n",
    "    current_saving=0;\n",
    "    number_of_month=0;\n",
    "    monthly_salary=constant\n",
    "    while number_of_month <= 36:\n",
    "      current_saving = current_saving + (monthly_salary * (portion_saved/10000));\n",
    "      current_saving = current_saving + (current_saving * r_monthly );\n",
    "      if (number_of_month) % 6 ==0 :\n",
    "        monthly_salary = monthly_salary + (monthly_salary * semi_annual_raise);\n",
    "      number_of_month +=1;\n",
    "    if  current_saving > (down_payment_price+100) :\n",
    "      portion_saved = portion_saved - difference ;\n",
    "    else :\n",
    "      portion_saved = portion_saved + difference ;\n",
    "    difference =  abs((portion_saved_prev - portion_saved)/2);\n",
    "    step +=1\n",
    "    if step>50:\n",
    "      break;\n",
    "\n",
    "if step>50:\n",
    "  print (\"It is not possible to pay the down payment in three years.\");\n",
    "else:\n",
    "  print (\"Best savings rate: %.4f\"  % (portion_saved/10000));\n",
    "  print (\"Steps in bisection search: \" + str(step));\n",
    "\n"
   ]
  }
 ],
 "metadata": {
  "colab": {
   "collapsed_sections": [],
   "name": "P1: PS2 - Erdem Arısoy.ipynb",
   "provenance": []
  },
  "kernelspec": {
   "display_name": "Python 3",
   "language": "python",
   "name": "python3"
  },
  "language_info": {
   "codemirror_mode": {
    "name": "ipython",
    "version": 3
   },
   "file_extension": ".py",
   "mimetype": "text/x-python",
   "name": "python",
   "nbconvert_exporter": "python",
   "pygments_lexer": "ipython3",
   "version": "3.6.5"
  }
 },
 "nbformat": 4,
 "nbformat_minor": 1
}
